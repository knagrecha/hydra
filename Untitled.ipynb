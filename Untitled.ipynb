{
 "cells": [
  {
   "cell_type": "code",
   "execution_count": 44,
   "id": "30457d25",
   "metadata": {},
   "outputs": [],
   "source": [
    "import torch"
   ]
  },
  {
   "cell_type": "code",
   "execution_count": 45,
   "id": "a2c0954b",
   "metadata": {},
   "outputs": [],
   "source": [
    "model_0 = torch.nn.Sequential( \n",
    "    torch.nn.Linear(1000, 1000)\n",
    ")\n",
    "\n",
    "model_1 = torch.nn.Sequential( \n",
    "    torch.nn.Linear(1000, 1000)\n",
    ")\n",
    "\n",
    "model_2 = torch.nn.Sequential( \n",
    "    torch.nn.Linear(1000, 1000)\n",
    ")"
   ]
  },
  {
   "cell_type": "code",
   "execution_count": 46,
   "id": "284ae03c",
   "metadata": {},
   "outputs": [],
   "source": [
    "input_tensor = torch.zeros(1000, 1000).to(\"cuda:0\")"
   ]
  },
  {
   "cell_type": "code",
   "execution_count": 47,
   "id": "0301fcc8",
   "metadata": {},
   "outputs": [],
   "source": [
    "with torch.autograd.graph.save_on_cpu():\n",
    "    model_0 = model_0.to(\"cuda:0\")\n",
    "    out_1 = model_0(input_tensor)"
   ]
  },
  {
   "cell_type": "code",
   "execution_count": 48,
   "id": "ee96bcee",
   "metadata": {},
   "outputs": [],
   "source": [
    "out_1_detached = out_1.detach().cpu().clone()"
   ]
  },
  {
   "cell_type": "code",
   "execution_count": 49,
   "id": "afd15540",
   "metadata": {},
   "outputs": [],
   "source": [
    "model_0 = model_0.cpu()\n",
    "input_tensor = input_tensor.cpu()\n",
    "\n",
    "with torch.autograd.graph.save_on_cpu():\n",
    "    model_1 = model_1.to(\"cuda:0\")\n",
    "    out_1_detached = out_1_detached.to(\"cuda:0\")\n",
    "    out_1_detached.requires_grad_(True)\n",
    "    out_2 = model_1(out_1_detached)"
   ]
  },
  {
   "cell_type": "code",
   "execution_count": 50,
   "id": "6075f5b8",
   "metadata": {},
   "outputs": [],
   "source": [
    "out_2_detached = out_2.detach().cpu().clone()"
   ]
  },
  {
   "cell_type": "code",
   "execution_count": 51,
   "id": "be54bee0",
   "metadata": {},
   "outputs": [],
   "source": [
    "model_1 = model_1.cpu()\n",
    "out_2 = out_2.cpu()\n",
    "\n",
    "with torch.autograd.graph.save_on_cpu():\n",
    "    model_2 = model_2.to(\"cuda:0\")\n",
    "    out_2_detached = out_2_detached.to(\"cuda:0\")\n",
    "    out_2_detached.requires_grad_(True)\n",
    "    out_3 = model_2(out_2_detached)"
   ]
  },
  {
   "cell_type": "code",
   "execution_count": 52,
   "id": "81ef331e",
   "metadata": {},
   "outputs": [],
   "source": [
    "loss = torch.nn.CrossEntropyLoss()"
   ]
  },
  {
   "cell_type": "code",
   "execution_count": 53,
   "id": "76f52149",
   "metadata": {},
   "outputs": [],
   "source": [
    "loss_val = loss(out_3, torch.ones_like(out_3))"
   ]
  },
  {
   "cell_type": "code",
   "execution_count": 54,
   "id": "9630ed73",
   "metadata": {},
   "outputs": [],
   "source": [
    "loss_val.backward()"
   ]
  },
  {
   "cell_type": "code",
   "execution_count": 55,
   "id": "e041f691",
   "metadata": {},
   "outputs": [],
   "source": [
    "grads = out_2_detached.grad"
   ]
  },
  {
   "cell_type": "code",
   "execution_count": 56,
   "id": "109e415c",
   "metadata": {},
   "outputs": [],
   "source": [
    "model_1 = model_1.to(\"cuda:0\")\n",
    "grads = grads.to(\"cuda:0\")\n",
    "out_1_detached = out_1_detached.to(\"cuda:0\")\n",
    "out_2 = out_2.to(\"cuda:0\")\n",
    "torch.autograd.backward(out_2, grads)"
   ]
  },
  {
   "cell_type": "code",
   "execution_count": 57,
   "id": "42e94e3e",
   "metadata": {},
   "outputs": [
    {
     "name": "stdout",
     "output_type": "stream",
     "text": [
      "tensor([[ 5.1594e-06, -4.9111e-06,  5.5386e-06,  ...,  1.3545e-05,\n",
      "         -7.5534e-06,  4.8644e-06],\n",
      "        [ 5.1594e-06, -4.9111e-06,  5.5386e-06,  ...,  1.3545e-05,\n",
      "         -7.5534e-06,  4.8644e-06],\n",
      "        [ 5.1594e-06, -4.9111e-06,  5.5386e-06,  ...,  1.3545e-05,\n",
      "         -7.5534e-06,  4.8644e-06],\n",
      "        ...,\n",
      "        [ 5.1594e-06, -4.9111e-06,  5.5386e-06,  ...,  1.3545e-05,\n",
      "         -7.5534e-06,  4.8644e-06],\n",
      "        [ 5.1594e-06, -4.9111e-06,  5.5386e-06,  ...,  1.3545e-05,\n",
      "         -7.5534e-06,  4.8644e-06],\n",
      "        [ 5.1594e-06, -4.9111e-06,  5.5386e-06,  ...,  1.3545e-05,\n",
      "         -7.5534e-06,  4.8644e-06]], device='cuda:0')\n"
     ]
    }
   ],
   "source": [
    "print(out_1_detached.grad)"
   ]
  },
  {
   "cell_type": "code",
   "execution_count": null,
   "id": "957d9088",
   "metadata": {},
   "outputs": [],
   "source": []
  }
 ],
 "metadata": {
  "kernelspec": {
   "display_name": "Python 3 (ipykernel)",
   "language": "python",
   "name": "python3"
  },
  "language_info": {
   "codemirror_mode": {
    "name": "ipython",
    "version": 3
   },
   "file_extension": ".py",
   "mimetype": "text/x-python",
   "name": "python",
   "nbconvert_exporter": "python",
   "pygments_lexer": "ipython3",
   "version": "3.9.7"
  }
 },
 "nbformat": 4,
 "nbformat_minor": 5
}
